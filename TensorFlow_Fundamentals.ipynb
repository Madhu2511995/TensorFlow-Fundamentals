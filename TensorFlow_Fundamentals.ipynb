{
  "nbformat": 4,
  "nbformat_minor": 0,
  "metadata": {
    "colab": {
      "provenance": [],
      "gpuType": "T4"
    },
    "kernelspec": {
      "name": "python3",
      "display_name": "Python 3"
    },
    "language_info": {
      "name": "python"
    },
    "accelerator": "GPU"
  },
  "cells": [
    {
      "cell_type": "markdown",
      "source": [
        "# **Part 1: Theoretical Question.**\n",
        "**1. What are the different data structures used in Tensorflow?. Give some examples.**"
      ],
      "metadata": {
        "id": "OnawmfQC6Ioj"
      }
    },
    {
      "cell_type": "markdown",
      "source": [
        "TensorFlow, an open-source machine learning library, primarily uses tensors as the fundamental data structure. A tensor is a multi-dimensional array that can represent various types of data. While tensors are the core data structure, TensorFlow provides other data structures and abstractions to support different aspects of machine learning tasks\n",
        "\n",
        "Example:\n",
        "\n",
        "import tensorflow as tf\n",
        "\n",
        "- Creating a tensor\n",
        "- tensor_a = tf.constant([[1, 2, 3], [4, 5, 6]])\n"
      ],
      "metadata": {
        "id": "QtGjV21c6mwj"
      }
    },
    {
      "cell_type": "markdown",
      "source": [
        "**2. How does the TensorFlow constant differ from a TensorFlow variable? Explain with an example.**"
      ],
      "metadata": {
        "id": "iz7YbC9e6my1"
      }
    },
    {
      "cell_type": "markdown",
      "source": [
        "In TensorFlow, both constants and variables are used to represent data, but they have key differences in terms of mutability and usage in the context of building and training models.\n",
        "\n",
        "**TensorFlow Constant:**\n",
        "\n",
        "- **Immutability:** Constants are immutable, meaning their values cannot be changed after they are assigned.\n",
        "- **Use Case:** Constants are typically used for representing fixed values that remain constant throughout the execution of a program.\n",
        "- **Example:**\n",
        "\n",
        "\n"
      ],
      "metadata": {
        "id": "b8LAcpCh6m2G"
      }
    },
    {
      "cell_type": "code",
      "source": [
        "import tensorflow as tf\n",
        "\n",
        "# Creating a TensorFlow constant\n",
        "constant_tensor = tf.constant([1, 2, 3])\n"
      ],
      "metadata": {
        "id": "_V9-goBbA2nj"
      },
      "execution_count": 1,
      "outputs": []
    },
    {
      "cell_type": "code",
      "source": [
        "constant_tensor"
      ],
      "metadata": {
        "colab": {
          "base_uri": "https://localhost:8080/"
        },
        "id": "LEZ2CiE2BNGy",
        "outputId": "990021c8-5a6e-485d-807a-a3e9aa00a625"
      },
      "execution_count": 2,
      "outputs": [
        {
          "output_type": "execute_result",
          "data": {
            "text/plain": [
              "<tf.Tensor: shape=(3,), dtype=int32, numpy=array([1, 2, 3], dtype=int32)>"
            ]
          },
          "metadata": {},
          "execution_count": 2
        }
      ]
    },
    {
      "cell_type": "markdown",
      "source": [
        "**TensorFlow Variable:**\n",
        "\n",
        "- **Mutability:** Variables are mutable, and their values can be changed during training. They are often used to represent trainable parameters in a model.\n",
        "- **Use Case:** Variables are used for parameters that need to be updated during optimization, such as weights and biases in a neural network.\n",
        "- **Example:**\n",
        "  "
      ],
      "metadata": {
        "id": "-ObtNVw3A3wx"
      }
    },
    {
      "cell_type": "code",
      "source": [
        "import tensorflow as tf\n",
        "\n",
        "# Creating a TensorFlow variable\n",
        "initial_value = tf.constant([1, 2, 3])\n",
        "variable_tensor = tf.Variable(initial_value)\n"
      ],
      "metadata": {
        "id": "bcD3-8i3A8TD"
      },
      "execution_count": 3,
      "outputs": []
    },
    {
      "cell_type": "code",
      "source": [
        "variable_tensor"
      ],
      "metadata": {
        "colab": {
          "base_uri": "https://localhost:8080/"
        },
        "id": "KByPBXf8BZtc",
        "outputId": "84cc26e2-a826-461f-a049-e519aa81d3db"
      },
      "execution_count": 4,
      "outputs": [
        {
          "output_type": "execute_result",
          "data": {
            "text/plain": [
              "<tf.Variable 'Variable:0' shape=(3,) dtype=int32, numpy=array([1, 2, 3], dtype=int32)>"
            ]
          },
          "metadata": {},
          "execution_count": 4
        }
      ]
    },
    {
      "cell_type": "code",
      "source": [
        "import tensorflow as tf\n",
        "\n",
        "# Creating a TensorFlow constant\n",
        "constant_tensor = tf.constant([1, 2, 3])\n",
        "\n",
        "# Creating a TensorFlow variable\n",
        "initial_value = tf.constant([4, 5, 6])\n",
        "variable_tensor = tf.Variable(initial_value)\n",
        "\n",
        "# Printing the values\n",
        "print(\"Constant Tensor:\", constant_tensor.numpy())\n",
        "print(\"Variable Tensor (Before Update):\", variable_tensor.numpy())\n",
        "\n",
        "# Modifying the variable tensor\n",
        "variable_tensor.assign([7, 8, 9])\n",
        "\n",
        "# Printing the values after modification\n",
        "print(\"Variable Tensor (After Update):\", variable_tensor.numpy())\n"
      ],
      "metadata": {
        "colab": {
          "base_uri": "https://localhost:8080/"
        },
        "id": "SMhDiIKABqn5",
        "outputId": "33b2cec7-429e-4a5e-901a-9426fd975408"
      },
      "execution_count": 6,
      "outputs": [
        {
          "output_type": "stream",
          "name": "stdout",
          "text": [
            "Constant Tensor: [1 2 3]\n",
            "Variable Tensor (Before Update): [4 5 6]\n",
            "Variable Tensor (After Update): [7 8 9]\n"
          ]
        }
      ]
    },
    {
      "cell_type": "code",
      "source": [
        "# Attempting to modify the constant tensor (will result in an error)\n",
        "constant_tensor.assign([7, 8, 9])  # Uncommenting this line will raise an error\n"
      ],
      "metadata": {
        "id": "qW6maCMBB9Vp"
      },
      "execution_count": 7,
      "outputs": []
    },
    {
      "cell_type": "markdown",
      "source": [
        "**3. Describe the process of matrix addition, multiplication, and elements wise operations in TensorFlow.**"
      ],
      "metadata": {
        "id": "ze5vv-BX6m4P"
      }
    },
    {
      "cell_type": "markdown",
      "source": [
        "**Matrix Addition:**\n",
        "Matrix addition is performed element-wise, where corresponding elements in two matrices are added together to form a new matrix. The matrices must have the same dimensions.\n",
        "\n",
        "**Example:**"
      ],
      "metadata": {
        "id": "wTQqgryf6m--"
      }
    },
    {
      "cell_type": "code",
      "source": [
        "import tensorflow as tf\n",
        "\n",
        "# Create two matrices\n",
        "matrix_a = tf.constant([[1, 2], [3, 4]])\n",
        "matrix_b = tf.constant([[5, 6], [7, 8]])\n",
        "\n",
        "# Perform matrix addition\n",
        "matrix_sum = tf.add(matrix_a, matrix_b)\n",
        "\n",
        "# Display the result\n",
        "print(\"Matrix A:\\n\", matrix_a.numpy())\n",
        "print(\"Matrix B:\\n\", matrix_b.numpy())\n",
        "print(\"Matrix Sum (A + B):\\n\", matrix_sum.numpy())\n"
      ],
      "metadata": {
        "colab": {
          "base_uri": "https://localhost:8080/"
        },
        "id": "-2FrNNP6CbyT",
        "outputId": "82f08dc8-9017-4e06-b2e5-7f4b966101fe"
      },
      "execution_count": 8,
      "outputs": [
        {
          "output_type": "stream",
          "name": "stdout",
          "text": [
            "Matrix A:\n",
            " [[1 2]\n",
            " [3 4]]\n",
            "Matrix B:\n",
            " [[5 6]\n",
            " [7 8]]\n",
            "Matrix Sum (A + B):\n",
            " [[ 6  8]\n",
            " [10 12]]\n"
          ]
        }
      ]
    },
    {
      "cell_type": "markdown",
      "source": [
        "**Matrix Multiplication:**\n",
        "\n",
        "Matrix multiplication involves the dot product of rows and columns. The number of columns in the first matrix must be equal to the number of rows in the second matrix for the multiplication to be defined.\n",
        "\n",
        "**Example:**"
      ],
      "metadata": {
        "id": "LvEGWifOCliE"
      }
    },
    {
      "cell_type": "code",
      "source": [
        "import tensorflow as tf\n",
        "\n",
        "# Create two matrices\n",
        "matrix_a = tf.constant([[1, 2], [3, 4]])\n",
        "matrix_b = tf.constant([[5, 6], [7, 8]])\n",
        "\n",
        "# Perform matrix multiplication\n",
        "matrix_product = tf.matmul(matrix_a, matrix_b)\n",
        "\n",
        "# Display the result\n",
        "print(\"Matrix A:\\n\", matrix_a.numpy())\n",
        "print(\"Matrix B:\\n\", matrix_b.numpy())\n",
        "print(\"Matrix Product (A * B):\\n\", matrix_product.numpy())\n"
      ],
      "metadata": {
        "colab": {
          "base_uri": "https://localhost:8080/"
        },
        "id": "_L_zL43SCkeY",
        "outputId": "32d46e18-e9b6-4ddd-d5b7-4ab0119f848a"
      },
      "execution_count": 9,
      "outputs": [
        {
          "output_type": "stream",
          "name": "stdout",
          "text": [
            "Matrix A:\n",
            " [[1 2]\n",
            " [3 4]]\n",
            "Matrix B:\n",
            " [[5 6]\n",
            " [7 8]]\n",
            "Matrix Product (A * B):\n",
            " [[19 22]\n",
            " [43 50]]\n"
          ]
        }
      ]
    },
    {
      "cell_type": "markdown",
      "source": [
        "**Element-wise Operations:**\n",
        "Element-wise operations involve performing an operation on corresponding elements of two tensors. These operations can include addition, subtraction, multiplication, division, and more.\n",
        "\n",
        "**Example:**"
      ],
      "metadata": {
        "id": "f8AJPcQEDLmF"
      }
    },
    {
      "cell_type": "code",
      "source": [
        "import tensorflow as tf\n",
        "\n",
        "# Create two tensors\n",
        "tensor_a = tf.constant([[1, 2], [3, 4]])\n",
        "tensor_b = tf.constant([[5, 6], [7, 8]])\n",
        "\n",
        "# Perform element-wise addition\n",
        "elementwise_sum = tf.add(tensor_a, tensor_b)\n",
        "\n",
        "# Perform element-wise multiplication\n",
        "elementwise_product = tf.multiply(tensor_a, tensor_b)\n",
        "\n",
        "# Display the results\n",
        "print(\"Tensor A:\\n\", tensor_a.numpy())\n",
        "print(\"Tensor B:\\n\", tensor_b.numpy())\n",
        "print(\"Element-wise Sum (A + B):\\n\", elementwise_sum.numpy())\n",
        "print(\"Element-wise Product (A * B):\\n\", elementwise_product.numpy())\n"
      ],
      "metadata": {
        "colab": {
          "base_uri": "https://localhost:8080/"
        },
        "id": "H14ohNbqDO7n",
        "outputId": "9a59d42d-30d0-4b4a-c71e-f42eaa1bdd1c"
      },
      "execution_count": 10,
      "outputs": [
        {
          "output_type": "stream",
          "name": "stdout",
          "text": [
            "Tensor A:\n",
            " [[1 2]\n",
            " [3 4]]\n",
            "Tensor B:\n",
            " [[5 6]\n",
            " [7 8]]\n",
            "Element-wise Sum (A + B):\n",
            " [[ 6  8]\n",
            " [10 12]]\n",
            "Element-wise Product (A * B):\n",
            " [[ 5 12]\n",
            " [21 32]]\n"
          ]
        }
      ]
    },
    {
      "cell_type": "markdown",
      "source": [
        "# **Part 2: Practical Implementation**\n",
        "### **Task 1: Creating and Manipulating Matrice.**\n",
        "**1. Create a normal matrix A with dimensions 3x3, using TensorFlow's random_normal function. Display the values of matrix A.**"
      ],
      "metadata": {
        "id": "vN-rIya86nro"
      }
    },
    {
      "cell_type": "code",
      "source": [
        "import tensorflow as tf\n",
        "\n",
        "# Create a 2x2 matrix with random values from a normal distribution\n",
        "matrix_A = tf.random.normal(shape=(3, 3))\n",
        "\n",
        "# Display the values of matrix A\n",
        "print(\"Matrix A:\\n\", matrix_A.numpy())\n"
      ],
      "metadata": {
        "colab": {
          "base_uri": "https://localhost:8080/"
        },
        "id": "FMmQ09KS7VSu",
        "outputId": "56132824-7661-4dff-eac1-8d6df8736ea9"
      },
      "execution_count": 16,
      "outputs": [
        {
          "output_type": "stream",
          "name": "stdout",
          "text": [
            "Matrix A:\n",
            " [[ 1.4986585  -0.20172824 -0.39333636]\n",
            " [ 0.4572874   2.0150108   1.2711082 ]\n",
            " [-0.12992634 -0.5970167  -0.2042668 ]]\n"
          ]
        }
      ]
    },
    {
      "cell_type": "markdown",
      "source": [
        "**2. Create a Gaussian matrix B with dimensions 4x4, using TensorFlow's truncated_normal function. Display the values of matrix B.**"
      ],
      "metadata": {
        "id": "o9Rj2G8A6ntd"
      }
    },
    {
      "cell_type": "code",
      "source": [
        "import tensorflow as tf\n",
        "\n",
        "# Specify the dimensions of the matrix (replace 'x' with the desired size)\n",
        "matrix_dimensions = (4, 4)  # For example, a 4x4 matrix\n",
        "\n",
        "# Create a matrix with random values from a truncated normal distribution\n",
        "matrix_B = tf.random.truncated_normal(shape=matrix_dimensions, mean=0.0, stddev=1.0)\n",
        "\n",
        "# Display the values of matrix B\n",
        "print(\"Matrix B:\\n\", matrix_B.numpy())\n"
      ],
      "metadata": {
        "colab": {
          "base_uri": "https://localhost:8080/"
        },
        "id": "qiV2u_gb7fGx",
        "outputId": "d864a9e3-8a71-4e4d-c1a0-5c51f1dfa3bd"
      },
      "execution_count": 17,
      "outputs": [
        {
          "output_type": "stream",
          "name": "stdout",
          "text": [
            "Matrix B:\n",
            " [[-1.3789437   0.4581161   0.7321869  -0.13655604]\n",
            " [-0.35626748  0.03861269  0.6407998   0.05932369]\n",
            " [ 0.33066976 -0.10562874 -0.6122653  -1.924805  ]\n",
            " [-0.57354325  0.6583181  -0.30191398  0.16447009]]\n"
          ]
        }
      ]
    },
    {
      "cell_type": "markdown",
      "source": [
        "**3. Create a matrix C with dimensions 2x2, where the values are drawn from a normal distribution with a mean of 2 and a standard deviation of 0.5, using TensorFlow's random.normal function. Display the values of matrix C.**"
      ],
      "metadata": {
        "id": "82eVXXPs6nxc"
      }
    },
    {
      "cell_type": "code",
      "source": [
        "import tensorflow as tf\n",
        "\n",
        "# Create a 2x2 matrix with values from a normal distribution with specified mean and stddev\n",
        "matrix_C = tf.random.normal(shape=(2, 2), mean=2.0, stddev=0.5)\n",
        "\n",
        "# Display the values of matrix C\n",
        "print(\"Matrix C:\\n\", matrix_C.numpy())\n"
      ],
      "metadata": {
        "colab": {
          "base_uri": "https://localhost:8080/"
        },
        "id": "U9UuWlTK7nk4",
        "outputId": "578820dd-7567-45c1-de08-dae2795d2614"
      },
      "execution_count": 13,
      "outputs": [
        {
          "output_type": "stream",
          "name": "stdout",
          "text": [
            "Matrix C:\n",
            " [[1.6310446 2.4484496]\n",
            " [1.4197941 2.41125  ]]\n"
          ]
        }
      ]
    },
    {
      "cell_type": "markdown",
      "source": [
        "**4. Perform matrix addition between matrix A and matrix B, and store the result in matrix D.**"
      ],
      "metadata": {
        "id": "ICy_vPZ06n14"
      }
    },
    {
      "cell_type": "code",
      "source": [
        "import tensorflow as tf\n",
        "\n",
        "# Assuming you have matrices A and B\n",
        "matrix_A = tf.random.normal(shape=(2, 2))\n",
        "matrix_B = tf.random.truncated_normal(shape=(2, 2), mean=0.0, stddev=1.0)\n",
        "\n",
        "# Perform matrix addition\n",
        "matrix_D = tf.add(matrix_A, matrix_B)\n",
        "\n",
        "# Display the values of matrices A, B, and the result matrix D\n",
        "print(\"Matrix A:\\n\", matrix_A.numpy())\n",
        "print(\"Matrix B:\\n\", matrix_B.numpy())\n",
        "print(\"Matrix D (Result of A + B):\\n\", matrix_D.numpy())\n"
      ],
      "metadata": {
        "colab": {
          "base_uri": "https://localhost:8080/"
        },
        "id": "sDCaop_e7vNH",
        "outputId": "70e9bcec-4a0b-4d90-a23e-60556712183e"
      },
      "execution_count": 19,
      "outputs": [
        {
          "output_type": "stream",
          "name": "stdout",
          "text": [
            "Matrix A:\n",
            " [[ 1.1731125 -1.0838125]\n",
            " [-0.3697052 -0.5110007]]\n",
            "Matrix B:\n",
            " [[ 1.603976   0.9365206]\n",
            " [ 1.1074717 -1.1832938]]\n",
            "Matrix D (Result of A + B):\n",
            " [[ 2.7770886 -0.1472919]\n",
            " [ 0.7377665 -1.6942945]]\n"
          ]
        }
      ]
    },
    {
      "cell_type": "markdown",
      "source": [
        "**5. Perform matrix multiplication between matrix C and matrix D, and store the result in matrix E.**"
      ],
      "metadata": {
        "id": "MSvfEYuy7vsA"
      }
    },
    {
      "cell_type": "code",
      "source": [
        "matrix_E = tf.matmul(matrix_C, matrix_D)\n",
        "\n",
        "# Display the values of matrices C, D, and E\n",
        "print(\"Matrix C:\\n\", matrix_C.numpy())\n",
        "print(\"Matrix D:\\n\", matrix_D.numpy())\n",
        "print(\"Matrix E (C * D):\\n\", matrix_E.numpy())"
      ],
      "metadata": {
        "colab": {
          "base_uri": "https://localhost:8080/"
        },
        "id": "GsiKAEJy75FF",
        "outputId": "49b9989f-679b-40ac-eda7-f76bb14bfc3b"
      },
      "execution_count": 20,
      "outputs": [
        {
          "output_type": "stream",
          "name": "stdout",
          "text": [
            "Matrix C:\n",
            " [[1.6310446 2.4484496]\n",
            " [1.4197941 2.41125  ]]\n",
            "Matrix D:\n",
            " [[ 2.7770886 -0.1472919]\n",
            " [ 0.7377665 -1.6942945]]\n",
            "Matrix E (C * D):\n",
            " [[ 6.3359394 -4.388634 ]\n",
            " [ 5.7218337 -4.294492 ]]\n"
          ]
        }
      ]
    },
    {
      "cell_type": "markdown",
      "source": [
        "# **Task 2: Performing Additional Matrix Operation.**\n",
        "**1. Create a matrix F with dimensions 2x2, initialized with random values using TensorFlow's random_uniform function.**"
      ],
      "metadata": {
        "id": "gHxtWzFt7vz-"
      }
    },
    {
      "cell_type": "code",
      "source": [
        "\n",
        "\n",
        "# Create a 2x2 matrix with random values from a uniform distribution\n",
        "matrix_F = tf.random.uniform(shape=(2, 2))\n",
        "\n",
        "# Display the values of matrix F\n",
        "print(\"Matrix F:\\n\", matrix_F.numpy())\n"
      ],
      "metadata": {
        "colab": {
          "base_uri": "https://localhost:8080/"
        },
        "id": "9Foptkzp8XOd",
        "outputId": "4a14e5ae-04b1-43b8-9fe4-12bbaeab4bca"
      },
      "execution_count": 21,
      "outputs": [
        {
          "output_type": "stream",
          "name": "stdout",
          "text": [
            "Matrix F:\n",
            " [[0.12903309 0.77613294]\n",
            " [0.32586932 0.68353283]]\n"
          ]
        }
      ]
    },
    {
      "cell_type": "markdown",
      "source": [
        "**2. Calculate the transpose of matrix F and store the result in matrix G.**"
      ],
      "metadata": {
        "id": "QUEpeJLQ7v1z"
      }
    },
    {
      "cell_type": "code",
      "source": [
        "# Matrix F\n",
        "matrix_F = tf.random.uniform(shape=(2, 2))\n",
        "\n",
        "# Calculate the transpose and store the result in matrix G\n",
        "matrix_G = tf.transpose(matrix_F)\n",
        "\n",
        "# Display the values of matrices F and G\n",
        "print(\"Matrix F:\\n\", matrix_F.numpy())\n",
        "print(\"Matrix G (Transpose of F):\\n\", matrix_G.numpy())\n"
      ],
      "metadata": {
        "colab": {
          "base_uri": "https://localhost:8080/"
        },
        "id": "VM7zMTbf8eWz",
        "outputId": "25c455e5-56fe-495b-a111-f954e7925aca"
      },
      "execution_count": 22,
      "outputs": [
        {
          "output_type": "stream",
          "name": "stdout",
          "text": [
            "Matrix F:\n",
            " [[0.21425188 0.9705292 ]\n",
            " [0.813455   0.06153953]]\n",
            "Matrix G (Transpose of F):\n",
            " [[0.21425188 0.813455  ]\n",
            " [0.9705292  0.06153953]]\n"
          ]
        }
      ]
    },
    {
      "cell_type": "markdown",
      "source": [
        "**3. Calculate the elements wise exponential of matrix F and store the result in matrix H.**"
      ],
      "metadata": {
        "id": "JtUxTLF87v5_"
      }
    },
    {
      "cell_type": "code",
      "source": [
        "matrix_H = tf.exp(matrix_F)\n",
        "\n",
        "# Display the values of matrices F and H\n",
        "print(\"Matrix F:\\n\", matrix_F.numpy())\n",
        "print(\"Matrix H (Element-wise Exponential of F):\\n\", matrix_H.numpy())"
      ],
      "metadata": {
        "colab": {
          "base_uri": "https://localhost:8080/"
        },
        "id": "8aUzFLZw8os9",
        "outputId": "e5e16b12-9ffe-4f6f-fec3-520976fb125d"
      },
      "execution_count": 23,
      "outputs": [
        {
          "output_type": "stream",
          "name": "stdout",
          "text": [
            "Matrix F:\n",
            " [[0.21425188 0.9705292 ]\n",
            " [0.813455   0.06153953]]\n",
            "Matrix H (Element-wise Exponential of F):\n",
            " [[1.2389346 2.6393409]\n",
            " [2.255688  1.0634725]]\n"
          ]
        }
      ]
    },
    {
      "cell_type": "markdown",
      "source": [
        "**4. Create a matrix I by concatenating matrix F and matrix G horizontally.**"
      ],
      "metadata": {
        "id": "NJ_5lS_s8pAQ"
      }
    },
    {
      "cell_type": "code",
      "source": [
        "# Concatenate matrices F and G horizontally\n",
        "matrix_I = tf.concat([matrix_F, matrix_G], axis=1)\n",
        "\n",
        "# Display the values of matrices F, G, and I\n",
        "print(\"Matrix F:\\n\", matrix_F.numpy())\n",
        "print(\"Matrix G (Transpose of F):\\n\", matrix_G.numpy())\n",
        "print(\"Matrix I (Concatenation of F and G horizontally):\\n\", matrix_I.numpy())"
      ],
      "metadata": {
        "colab": {
          "base_uri": "https://localhost:8080/"
        },
        "id": "hxfpVJ5x8zeY",
        "outputId": "cb1eaaa2-a1c0-464d-c1fa-ecab4cc26ab6"
      },
      "execution_count": 24,
      "outputs": [
        {
          "output_type": "stream",
          "name": "stdout",
          "text": [
            "Matrix F:\n",
            " [[0.21425188 0.9705292 ]\n",
            " [0.813455   0.06153953]]\n",
            "Matrix G (Transpose of F):\n",
            " [[0.21425188 0.813455  ]\n",
            " [0.9705292  0.06153953]]\n",
            "Matrix I (Concatenation of F and G horizontally):\n",
            " [[0.21425188 0.9705292  0.21425188 0.813455  ]\n",
            " [0.813455   0.06153953 0.9705292  0.06153953]]\n"
          ]
        }
      ]
    },
    {
      "cell_type": "markdown",
      "source": [
        "**5. Create a matrix J by concatenating matrix F and matrix H vertically.**"
      ],
      "metadata": {
        "id": "LXugWbDK8zvj"
      }
    },
    {
      "cell_type": "code",
      "source": [
        "# Concatenate matrices F and H vertically\n",
        "matrix_J = tf.concat([matrix_F, matrix_H], axis=0)\n",
        "\n",
        "# Display the values of matrices F, H, and J\n",
        "print(\"Matrix F:\\n\", matrix_F.numpy())\n",
        "print(\"Matrix H (Element-wise Exponential of F):\\n\", matrix_H.numpy())\n",
        "print(\"Matrix J (Concatenation of F and H vertically):\\n\", matrix_J.numpy())"
      ],
      "metadata": {
        "colab": {
          "base_uri": "https://localhost:8080/"
        },
        "id": "zzoy669V87w4",
        "outputId": "1040a8e7-fdf3-4de1-edab-6fcb00b1afb5"
      },
      "execution_count": 25,
      "outputs": [
        {
          "output_type": "stream",
          "name": "stdout",
          "text": [
            "Matrix F:\n",
            " [[0.21425188 0.9705292 ]\n",
            " [0.813455   0.06153953]]\n",
            "Matrix H (Element-wise Exponential of F):\n",
            " [[1.2389346 2.6393409]\n",
            " [2.255688  1.0634725]]\n",
            "Matrix J (Concatenation of F and H vertically):\n",
            " [[0.21425188 0.9705292 ]\n",
            " [0.813455   0.06153953]\n",
            " [1.2389346  2.6393409 ]\n",
            " [2.255688   1.0634725 ]]\n"
          ]
        }
      ]
    }
  ]
}